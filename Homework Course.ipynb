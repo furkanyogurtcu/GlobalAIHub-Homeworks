{
 "cells": [
  {
   "cell_type": "code",
   "execution_count": null,
   "metadata": {},
   "outputs": [],
   "source": []
  },
  {
   "cell_type": "code",
   "execution_count": null,
   "metadata": {},
   "outputs": [],
   "source": []
  },
  {
   "cell_type": "code",
   "execution_count": null,
   "metadata": {},
   "outputs": [],
   "source": []
  },
  {
   "cell_type": "code",
   "execution_count": null,
   "metadata": {},
   "outputs": [],
   "source": []
  },
  {
   "cell_type": "code",
   "execution_count": null,
   "metadata": {},
   "outputs": [],
   "source": []
  },
  {
   "cell_type": "code",
   "execution_count": null,
   "metadata": {},
   "outputs": [],
   "source": []
  },
  {
   "cell_type": "code",
   "execution_count": null,
   "metadata": {},
   "outputs": [],
   "source": []
  },
  {
   "cell_type": "code",
   "execution_count": 25,
   "metadata": {},
   "outputs": [
    {
     "name": "stdout",
     "output_type": "stream",
     "text": [
      "Enter name : a\n",
      "Enter surname : a\n",
      "Enter student name : a\n",
      "Enter student surname : a\n",
      "Welcome: aa\n",
      "Please enter your lessons' number5\n",
      "Enter choosen lessons' number(eq. 1,2,3,4,5 etc.)4\n",
      "you chose 4 th/nd lesson\n",
      "Please Enter your midterm note: 90\n",
      "Please Enter your project note: 90\n",
      "Please Enter your final note: 90\n",
      "AA\n"
     ]
    },
    {
     "ename": "SystemExit",
     "evalue": "",
     "output_type": "error",
     "traceback": [
      "An exception has occurred, use %tb to see the full traceback.\n",
      "\u001b[1;31mSystemExit\u001b[0m\n"
     ]
    }
   ],
   "source": [
    "##Global AI HUB & Turkish AI Hub Introduction to Python Programming course Homework Course \n",
    "#Furkan YOĞURTCU - furkanyogurtcu07@gmail.com\n",
    "#Student Manage System\n",
    "\n",
    "#name-surname check\n",
    "import sys \n",
    "i=0\n",
    "name = input(\"Enter name : \")\n",
    "surname = input(\"Enter surname : \")\n",
    "while i<3:\n",
    "    Check_name = input(\"Enter student name : \")\n",
    "    Check_surname = input(\"Enter student surname : \")\n",
    "    if (Check_name == name and Check_surname==surname):\n",
    "        print(\"Welcome:\", name + surname)\n",
    "        Courses = int(input(\"Please enter your lessons' number\"))\n",
    "        if (Courses<3):\n",
    "            print(\"You failed the class!\")\n",
    "            #return (Courses)\n",
    "        \n",
    "        else:\n",
    "            Which_Lesson = input(\"Enter choosen lessons' number(eq. 1,2,3,4,5 etc.)\")\n",
    "            print(\"you chose\",Which_Lesson,\"th/nd lesson\")\n",
    "            Lesson_grade = {'midterm':0,'project':0, 'final':0}\n",
    "            Lesson_grade['midterm'] = float(input(\"Please Enter your midterm note: \"))\n",
    "            Lesson_grade['project'] = float(input(\"Please Enter your project note: \"))\n",
    "            Lesson_grade['final'] =float(input(\"Please Enter your final note: \"))\n",
    "        \n",
    "            \n",
    "            Total_grade = float((Lesson_grade.get(\"midterm\") * 0.3) + (Lesson_grade.get(\"final\") * 0.5) \n",
    "                                + (Lesson_grade.get(\"project\") * 0.2))\n",
    "            if Total_grade >= 90:\n",
    "                print(\"AA\")\n",
    "            elif 70 <= Total_grade and Total_grade < 90:\n",
    "                print(\"BB\")\n",
    "            elif 50 < Total_grade and Total_grade < 70:\n",
    "                print(\"CC\")\n",
    "            elif 30 < Total_grade and Total_grade <= 50:\n",
    "                print(\"DD\")\n",
    "            else:\n",
    "                print(\"FF\\n Unfortunalety Failure\")\n",
    "            sys.exit()\n",
    "            \n",
    "        \n",
    "        \n",
    "    else:\n",
    "        print(\"Please Try Again!\")\n",
    "        i+=1\n",
    "    if(i==3):\n",
    "        print(\"failed\")\n",
    "        sys.exit(1)"
   ]
  },
  {
   "cell_type": "code",
   "execution_count": null,
   "metadata": {},
   "outputs": [],
   "source": []
  },
  {
   "cell_type": "code",
   "execution_count": null,
   "metadata": {},
   "outputs": [],
   "source": []
  },
  {
   "cell_type": "code",
   "execution_count": null,
   "metadata": {},
   "outputs": [],
   "source": []
  },
  {
   "cell_type": "code",
   "execution_count": null,
   "metadata": {},
   "outputs": [],
   "source": []
  }
 ],
 "metadata": {
  "kernelspec": {
   "display_name": "Python 3",
   "language": "python",
   "name": "python3"
  },
  "language_info": {
   "codemirror_mode": {
    "name": "ipython",
    "version": 3
   },
   "file_extension": ".py",
   "mimetype": "text/x-python",
   "name": "python",
   "nbconvert_exporter": "python",
   "pygments_lexer": "ipython3",
   "version": "3.8.5"
  }
 },
 "nbformat": 4,
 "nbformat_minor": 4
}
