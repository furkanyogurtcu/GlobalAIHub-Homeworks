{
 "cells": [
  {
   "cell_type": "code",
   "execution_count": null,
   "metadata": {},
   "outputs": [],
   "source": []
  },
  {
   "cell_type": "code",
   "execution_count": null,
   "metadata": {},
   "outputs": [],
   "source": []
  },
  {
   "cell_type": "code",
   "execution_count": null,
   "metadata": {},
   "outputs": [],
   "source": []
  },
  {
   "cell_type": "code",
   "execution_count": null,
   "metadata": {},
   "outputs": [],
   "source": []
  },
  {
   "cell_type": "code",
   "execution_count": 18,
   "metadata": {},
   "outputs": [
    {
     "name": "stdout",
     "output_type": "stream",
     "text": [
      "Welcome to Hangman Game\n",
      "Rule is so simple. You guess your friend's word. You can try only 5 times\n",
      "Please, Enter First Player's name: furkan\n",
      "Please, Enter Second PLayer's name: emre\n",
      "Welcome! furkan emre\n",
      "Who wants to guess the word?y\n",
      "Please, Write your name correctly!\n"
     ]
    },
    {
     "ename": "KeyboardInterrupt",
     "evalue": "Interrupted by user",
     "output_type": "error",
     "traceback": [
      "\u001b[1;31m---------------------------------------------------------------------------\u001b[0m",
      "\u001b[1;31mKeyboardInterrupt\u001b[0m                         Traceback (most recent call last)",
      "\u001b[1;32m<ipython-input-18-9242e51681e1>\u001b[0m in \u001b[0;36m<module>\u001b[1;34m\u001b[0m\n\u001b[0;32m     11\u001b[0m \u001b[1;31m#Guess_person = input(\"Who wants to guess the word?\")\u001b[0m\u001b[1;33m\u001b[0m\u001b[1;33m\u001b[0m\u001b[1;33m\u001b[0m\u001b[0m\n\u001b[0;32m     12\u001b[0m \u001b[1;32mwhile\u001b[0m\u001b[1;33m(\u001b[0m\u001b[1;32mTrue\u001b[0m\u001b[1;33m)\u001b[0m\u001b[1;33m:\u001b[0m\u001b[1;33m\u001b[0m\u001b[1;33m\u001b[0m\u001b[0m\n\u001b[1;32m---> 13\u001b[1;33m     \u001b[0mGuess_person\u001b[0m \u001b[1;33m=\u001b[0m \u001b[0minput\u001b[0m\u001b[1;33m(\u001b[0m\u001b[1;34m\"Who wants to guess the word?\"\u001b[0m\u001b[1;33m)\u001b[0m\u001b[1;33m\u001b[0m\u001b[1;33m\u001b[0m\u001b[0m\n\u001b[0m\u001b[0;32m     14\u001b[0m \u001b[1;33m\u001b[0m\u001b[0m\n\u001b[0;32m     15\u001b[0m     \u001b[1;32mif\u001b[0m \u001b[1;33m(\u001b[0m\u001b[0mFirst_name\u001b[0m \u001b[1;33m==\u001b[0m \u001b[0mGuess_person\u001b[0m\u001b[1;33m)\u001b[0m\u001b[1;33m:\u001b[0m\u001b[1;33m\u001b[0m\u001b[1;33m\u001b[0m\u001b[0m\n",
      "\u001b[1;32m~\\anaconda3\\envs\\myEnv\\lib\\site-packages\\ipykernel\\kernelbase.py\u001b[0m in \u001b[0;36mraw_input\u001b[1;34m(self, prompt)\u001b[0m\n\u001b[0;32m    858\u001b[0m                 \u001b[1;34m\"raw_input was called, but this frontend does not support input requests.\"\u001b[0m\u001b[1;33m\u001b[0m\u001b[1;33m\u001b[0m\u001b[0m\n\u001b[0;32m    859\u001b[0m             )\n\u001b[1;32m--> 860\u001b[1;33m         return self._input_request(str(prompt),\n\u001b[0m\u001b[0;32m    861\u001b[0m             \u001b[0mself\u001b[0m\u001b[1;33m.\u001b[0m\u001b[0m_parent_ident\u001b[0m\u001b[1;33m,\u001b[0m\u001b[1;33m\u001b[0m\u001b[1;33m\u001b[0m\u001b[0m\n\u001b[0;32m    862\u001b[0m             \u001b[0mself\u001b[0m\u001b[1;33m.\u001b[0m\u001b[0m_parent_header\u001b[0m\u001b[1;33m,\u001b[0m\u001b[1;33m\u001b[0m\u001b[1;33m\u001b[0m\u001b[0m\n",
      "\u001b[1;32m~\\anaconda3\\envs\\myEnv\\lib\\site-packages\\ipykernel\\kernelbase.py\u001b[0m in \u001b[0;36m_input_request\u001b[1;34m(self, prompt, ident, parent, password)\u001b[0m\n\u001b[0;32m    902\u001b[0m             \u001b[1;32mexcept\u001b[0m \u001b[0mKeyboardInterrupt\u001b[0m\u001b[1;33m:\u001b[0m\u001b[1;33m\u001b[0m\u001b[1;33m\u001b[0m\u001b[0m\n\u001b[0;32m    903\u001b[0m                 \u001b[1;31m# re-raise KeyboardInterrupt, to truncate traceback\u001b[0m\u001b[1;33m\u001b[0m\u001b[1;33m\u001b[0m\u001b[1;33m\u001b[0m\u001b[0m\n\u001b[1;32m--> 904\u001b[1;33m                 \u001b[1;32mraise\u001b[0m \u001b[0mKeyboardInterrupt\u001b[0m\u001b[1;33m(\u001b[0m\u001b[1;34m\"Interrupted by user\"\u001b[0m\u001b[1;33m)\u001b[0m \u001b[1;32mfrom\u001b[0m \u001b[1;32mNone\u001b[0m\u001b[1;33m\u001b[0m\u001b[1;33m\u001b[0m\u001b[0m\n\u001b[0m\u001b[0;32m    905\u001b[0m             \u001b[1;32mexcept\u001b[0m \u001b[0mException\u001b[0m \u001b[1;32mas\u001b[0m \u001b[0me\u001b[0m\u001b[1;33m:\u001b[0m\u001b[1;33m\u001b[0m\u001b[1;33m\u001b[0m\u001b[0m\n\u001b[0;32m    906\u001b[0m                 \u001b[0mself\u001b[0m\u001b[1;33m.\u001b[0m\u001b[0mlog\u001b[0m\u001b[1;33m.\u001b[0m\u001b[0mwarning\u001b[0m\u001b[1;33m(\u001b[0m\u001b[1;34m\"Invalid Message:\"\u001b[0m\u001b[1;33m,\u001b[0m \u001b[0mexc_info\u001b[0m\u001b[1;33m=\u001b[0m\u001b[1;32mTrue\u001b[0m\u001b[1;33m)\u001b[0m\u001b[1;33m\u001b[0m\u001b[1;33m\u001b[0m\u001b[0m\n",
      "\u001b[1;31mKeyboardInterrupt\u001b[0m: Interrupted by user"
     ]
    }
   ],
   "source": [
    "#Global AI Hub % Turkısh AI Hub Introduction to Python Programming Course Homework-III\n",
    "#Furkan YOĞURTCU - furkanyogurtcu07@gmail.com\n",
    "#Hangman Game\n",
    "import sys\n",
    "from getpass import getpass\n",
    "\n",
    "print(\"Welcome to Hangman Game\\nRule is so simple. You guess your friend's word. You can try only 5 times\")\n",
    "First_name = input(\"Please, Enter First Player's name: \")\n",
    "Second_name = input(\"Please, Enter Second PLayer's name: \")\n",
    "print(\"Welcome!\",First_name, Second_name)\n",
    "#Guess_person = input(\"Who wants to guess the word?\")\n",
    "while(True):\n",
    "    Guess_person = input(\"Who wants to guess the word?\")\n",
    "\n",
    "    if (First_name == Guess_person):\n",
    "        print(\"**************************************************************************************************\")\n",
    "        print(\"Okey\",First_name,\"will write the word and\",Second_name, \"will guess\\n Don't forget you can try only 5 times.\")\n",
    "        passwd = getpass(\"Now, Write the word that will guess: \")\n",
    "        print(\"Ok, Turns\",Second_name)\n",
    "        i=0\n",
    "        while(i<=5):\n",
    "            Check1 = input(\"Write your guess: \")\n",
    "            if (passwd==Check1):\n",
    "                print(\"Congratulations\",Second_name,\"Your guess is true\\nNow,\",First_name,\" died \")\n",
    "            else:\n",
    "                print(\"Oh no!!!! Your guess is false Dont worry you can try ith time\",i)\n",
    "                i+=1      \n",
    "            if(i==5):\n",
    "                print(\"Failed\")\n",
    "                sys.exit()\n",
    "    elif (Second_name == Guess_person):\n",
    "        print(\"**************************************************************************************************\")\n",
    "        print(\"Okey\",Second_name,\"will write the word and\",First_name, \"will guess\\n Don't forget you can try only 5 times.\")\n",
    "        passwd = getpass(\"Now, Write the word that will guess: \")\n",
    "        print(\"Ok, Turns\",First_name)\n",
    "        i=0\n",
    "        while(i<=5):\n",
    "            Check1 = input(\"Write your guess: \")\n",
    "            if (passwd==Check1):\n",
    "                print(\"Congratulations\",First_name,\"Your guess is true\\nNow,\",Second_name,\" died \")\n",
    "            else:\n",
    "                print(\"Oh no!!!! Your guess is false Dont worry you can try ith time\",i)\n",
    "                i+=1      \n",
    "            if(i==5):\n",
    "                print(\"Failed\")\n",
    "                sys.exit()\n",
    "    else:\n",
    "        print(\"Please, Write your name correctly!\")\n",
    "    "
   ]
  },
  {
   "cell_type": "code",
   "execution_count": null,
   "metadata": {},
   "outputs": [],
   "source": []
  },
  {
   "cell_type": "code",
   "execution_count": null,
   "metadata": {},
   "outputs": [],
   "source": []
  },
  {
   "cell_type": "raw",
   "metadata": {},
   "source": []
  }
 ],
 "metadata": {
  "kernelspec": {
   "display_name": "Python 3",
   "language": "python",
   "name": "python3"
  },
  "language_info": {
   "codemirror_mode": {
    "name": "ipython",
    "version": 3
   },
   "file_extension": ".py",
   "mimetype": "text/x-python",
   "name": "python",
   "nbconvert_exporter": "python",
   "pygments_lexer": "ipython3",
   "version": "3.8.5"
  }
 },
 "nbformat": 4,
 "nbformat_minor": 4
}
