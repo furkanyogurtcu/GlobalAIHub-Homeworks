{
 "cells": [
  {
   "cell_type": "code",
   "execution_count": 1,
   "metadata": {},
   "outputs": [
    {
     "name": "stdout",
     "output_type": "stream",
     "text": [
      "Please, Enter first value: 5\n",
      "please, Enter second value: 5\n",
      "Please, Enter third value: 5\n",
      "Please, Enter fourth value: 5\n",
      "Please, Enter fifth value. 5\n",
      "Value1: 5 Value1's Type: <class 'str'>\n",
      "Value2: 5 Value2's Type: <class 'str'>\n",
      "Value3: 5 Value3's Type: <class 'str'>\n",
      "Value4: 5 Value4's Type: <class 'str'>\n",
      "Value5: 5 Value5's Type: <class 'str'>\n"
     ]
    }
   ],
   "source": [
    "##Global AI HUB & Turkish AI Hub Introduction to Python Programming course Homework-I\n",
    "Value1 = input(\"Please, Enter first value: \")\n",
    "Value2 = input(\"please, Enter second value: \")\n",
    "Value3 = input(\"Please, Enter third value: \")\n",
    "Value4 = input(\"Please, Enter fourth value: \")\n",
    "Value5 = input(\"Please, Enter fifth value. \")\n",
    "\n",
    "print(\"Value1:\", Value1,\"Value1's Type:\", str(type(Value1)))\n",
    "print(\"Value2:\", Value2,\"Value2's Type:\", str(type(Value2)))\n",
    "print(\"Value3:\", Value3,\"Value3's Type:\", str(type(Value3)))\n",
    "print(\"Value4:\", Value4,\"Value4's Type:\", str(type(Value4)))\n",
    "print(\"Value5:\", Value5,\"Value5's Type:\", str(type(Value5)))\n",
    "\n",
    "\n"
   ]
  },
  {
   "cell_type": "code",
   "execution_count": null,
   "metadata": {},
   "outputs": [],
   "source": []
  }
 ],
 "metadata": {
  "kernelspec": {
   "display_name": "Python 3",
   "language": "python",
   "name": "python3"
  },
  "language_info": {
   "codemirror_mode": {
    "name": "ipython",
    "version": 3
   },
   "file_extension": ".py",
   "mimetype": "text/x-python",
   "name": "python",
   "nbconvert_exporter": "python",
   "pygments_lexer": "ipython3",
   "version": "3.8.5"
  }
 },
 "nbformat": 4,
 "nbformat_minor": 4
}
