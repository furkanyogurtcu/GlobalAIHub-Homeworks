{
 "cells": [
  {
   "cell_type": "code",
   "execution_count": null,
   "metadata": {},
   "outputs": [],
   "source": [
    "##Global AI HUB & Turkish AI Hub Introduction to Python Programming course Homework Course \n",
    "#Furkan YOĞURTCU - furkanyogurtcu07@gmail.com\n",
    "#Student Manage System\n",
    "\n",
    "#name-surname check\n",
    "import sys \n",
    "i=0\n",
    "while i<3:\n",
    "    name = input(\"Enter name : \")\n",
    "    surname = input(\"Enter surname : \")\n",
    "    Check_name = input(\"Enter student name : \")\n",
    "    Check_surname = input(\"Enter student surname : \")\n",
    "    if (Check_name == name and Check_surname==surname):\n",
    "        print(\"Welcome:\", name + surname)\n",
    "        Courses = int(input(\"Please enter your lessons' number\"))\n",
    "        if (Courses<3):\n",
    "            print(\"You failed the class!\")        \n",
    "        else:\n",
    "            Which_Lesson = input(\"Enter choosen lessons' number(eq. 1,2,3,4,5 etc.)\")\n",
    "            print(\"you chose\",Which_Lesson,\"th/nd lesson\")\n",
    "            Lesson_grade = {'midterm':0,'project':0, 'final':0}\n",
    "            Lesson_grade['midterm'] = float(input(\"Please Enter your midterm note: \"))\n",
    "            Lesson_grade['project'] = float(input(\"Please Enter your project note: \"))\n",
    "            Lesson_grade['final'] =float(input(\"Please Enter your final note: \"))\n",
    "        \n",
    "            \n",
    "            Total_grade = float((Lesson_grade.get(\"midterm\") * 0.3) + (Lesson_grade.get(\"final\") * 0.5) \n",
    "                                + (Lesson_grade.get(\"project\") * 0.2))\n",
    "            if Total_grade >= 90:\n",
    "                print(\"AA\")\n",
    "            elif 70 <= Total_grade and Total_grade < 90:\n",
    "                print(\"BB\")\n",
    "            elif 50 < Total_grade and Total_grade < 70:\n",
    "                print(\"CC\")\n",
    "            elif 30 < Total_grade and Total_grade <= 50:\n",
    "                print(\"DD\")\n",
    "            else:\n",
    "                print(\"FF\\n Unfortunalety Failure\")\n",
    "            sys.exit()\n",
    "            \n",
    "        \n",
    "        \n",
    "    else:\n",
    "        print(\"Please Try Again!\")\n",
    "        i+=1\n",
    "    if(i==3):\n",
    "        print(\"failed\")\n",
    "        sys.exit(1)"
   ]
  }
 ],
 "metadata": {
  "kernelspec": {
   "display_name": "Python 3",
   "language": "python",
   "name": "python3"
  },
  "language_info": {
   "codemirror_mode": {
    "name": "ipython",
    "version": 3
   },
   "file_extension": ".py",
   "mimetype": "text/x-python",
   "name": "python",
   "nbconvert_exporter": "python",
   "pygments_lexer": "ipython3",
   "version": "3.8.5"
  }
 },
 "nbformat": 4,
 "nbformat_minor": 4
}
