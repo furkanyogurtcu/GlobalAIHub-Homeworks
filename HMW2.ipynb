{
 "cells": [
  {
   "cell_type": "code",
   "execution_count": 14,
   "metadata": {},
   "outputs": [
    {
     "name": "stdout",
     "output_type": "stream",
     "text": [
      "Please, Enter your name : f\n",
      "Please, Enter your surname: f\n",
      "Please, Enter your age: 20\n",
      "Please, Enter your Date of Birth, Only year!!1996\n",
      "f\n",
      "f\n",
      "20\n",
      "1996\n",
      "You can go out the street :)\n"
     ]
    }
   ],
   "source": [
    "##Global AI HUB & Turkish AI Hub Introduction to Python Programming course Homework-II\n",
    "\n",
    "Name = input(str(\"Please, Enter your name : \"))\n",
    "Surname = input(str(\"Please, Enter your surname: \"))\n",
    "Age = int(input(\"Please, Enter your age: \"))\n",
    "Date_of_Birth = int(input(\"Please, Enter your Date of Birth, Only year!!\"))\n",
    "\n",
    "Liste =[]\n",
    "Liste.insert(0, Name)\n",
    "Liste.insert(1, Surname)\n",
    "Liste.insert(2, Age)\n",
    "Liste.insert(3, Date_of_Birth)\n",
    "\n",
    "for i in range(len(Liste)):\n",
    "               print(Liste[i])\n",
    "                \n",
    "if (Age>=18):\n",
    "    print(\"You can go out the street :)\")\n",
    "else:\n",
    "        print(\"You cannot go out because it's too dangerous!\")\n",
    "    "
   ]
  },
  {
   "cell_type": "code",
   "execution_count": null,
   "metadata": {},
   "outputs": [],
   "source": []
  },
  {
   "cell_type": "code",
   "execution_count": null,
   "metadata": {},
   "outputs": [],
   "source": []
  }
 ],
 "metadata": {
  "kernelspec": {
   "display_name": "Python 3",
   "language": "python",
   "name": "python3"
  },
  "language_info": {
   "codemirror_mode": {
    "name": "ipython",
    "version": 3
   },
   "file_extension": ".py",
   "mimetype": "text/x-python",
   "name": "python",
   "nbconvert_exporter": "python",
   "pygments_lexer": "ipython3",
   "version": "3.8.5"
  }
 },
 "nbformat": 4,
 "nbformat_minor": 4
}
